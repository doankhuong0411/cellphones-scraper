{
 "cells": [
  {
   "cell_type": "code",
   "execution_count": null,
   "metadata": {},
   "outputs": [],
   "source": [
    "from selenium import webdriver\n",
    "from selenium.webdriver.common.by import By\n",
    "from selenium.webdriver.support.wait import WebDriverWait\n",
    "from selenium.webdriver.support import expected_conditions as ec\n",
    "from selenium.common.exceptions import ElementNotInteractableException"
   ]
  },
  {
   "cell_type": "code",
   "execution_count": null,
   "metadata": {},
   "outputs": [],
   "source": [
    "from time import sleep\n",
    "from random import randint\n",
    "\n",
    "import pandas as pd\n",
    "import os"
   ]
  },
  {
   "cell_type": "markdown",
   "metadata": {},
   "source": [
    "## **Crawl brand info**"
   ]
  },
  {
   "cell_type": "code",
   "execution_count": null,
   "metadata": {},
   "outputs": [],
   "source": [
    "def get_brand_info(url):\n",
    "    browser = webdriver.Chrome()\n",
    "    browser.get(url)\n",
    "\n",
    "    sleep(randint(3,6))\n",
    "\n",
    "    name_brands = []\n",
    "    link_brands = []\n",
    "\n",
    "    \n",
    "    list_brands = browser.find_elements(By.CLASS_NAME, 'list-brand')\n",
    "\n",
    "    for b in list_brands:\n",
    "        tag_link = b.find_elements(By.CLASS_NAME, 'list-brand__item.button__link')\n",
    "        for t in tag_link:\n",
    "            # Get link brand\n",
    "            link = t.get_attribute('href')\n",
    "\n",
    "            link_segments = link.split(\"/\")[-1]\n",
    "            name_brand = link_segments.split('.')[0]\n",
    "            \n",
    "            print(link)\n",
    "            print(name_brand)\n",
    "\n",
    "            link_brands.append(link)  \n",
    "            name_brands.append(name_brand) \n",
    "\n",
    "    browser.close()\n",
    "    return name_brands, link_brands"
   ]
  },
  {
   "cell_type": "markdown",
   "metadata": {},
   "source": [
    "## **Function get Pruduct data**"
   ]
  },
  {
   "cell_type": "code",
   "execution_count": null,
   "metadata": {},
   "outputs": [],
   "source": [
    "def get_product_info(url):\n",
    "\n",
    "    browser = webdriver.Chrome()\n",
    "    browser.get(url)\n",
    "    sleep(30)\n",
    "\n",
    "    try:\n",
    "        # Wait for the \"subscriber-popup box-banner\" to appear\n",
    "        popup_element = WebDriverWait(browser, 30).until(\n",
    "            ec.presence_of_element_located((By.CLASS_NAME, \"subscriber-popup.box-banner\"))\n",
    "        )\n",
    "\n",
    "        # If the popup appears, click the \"subscriber-form-submit button cancel-button\"\n",
    "        if popup_element.is_displayed():\n",
    "            submit_button = browser.find_element(By.CLASS_NAME, \"subscriber-form-submit.button.cancel-button\")\n",
    "            submit_button.click()\n",
    "            sleep(randint(3, 6))\n",
    "\n",
    "    except Exception as e:\n",
    "        print(f\"An error occurred: {e}\")\n",
    "\n",
    "    list_brand = browser.find_elements(By.CLASS_NAME, 'list-brand__item.button__link')\n",
    "    names = []\n",
    "    brand_ids = []\n",
    "    links = []\n",
    "    current_prices = []\n",
    "    old_prices = []\n",
    "    percent_discounts = []\n",
    "    \n",
    "\n",
    "    for i in range(1, len(list_brand)+1):\n",
    "        \n",
    "        # Click to a brand\n",
    "        WebDriverWait(browser, randint(7, 9)).until(ec.element_to_be_clickable((By.XPATH, f'/html/body/div[1]/div/div/div[3]/div[2]/div/div[4]/div/div/a[{i}]'))).click()\n",
    "                                                                                            # /html/body/div[1]/div/div/div[3]/div[2]/div/div[3]/div/div/a[{i}] mobile, tablet, watch and\n",
    "                                                                                            # /html/body/div[1]/div/div/div[3]/div[2]/div/div[4]/div/div/a[{i}] laptop, Tivi\n",
    "\n",
    "                                                                             \n",
    "        sleep(randint(3, 5))\n",
    "\n",
    "        \n",
    "        show_more_btn = browser.find_elements(By.CLASS_NAME, 'button.btn-show-more.button__show-more-product')\n",
    "        if len(show_more_btn) > 0:\n",
    "            path_product_element = f'/html/body/div[1]/div/div/div[3]/div[2]/div/div[4]/div[5]/div/div[1]/div[x]'\n",
    "            while True:\n",
    "                try:\n",
    "                    # click see more: if have button see more, and click until button 'see more' no longer appear\n",
    "                    show_more_btn[0].click()\n",
    "                    sleep(randint(2, 3))\n",
    "                except Exception as e:\n",
    "                    break\n",
    "        \n",
    "        else:\n",
    "            path_product_element = f'/html/body/div[1]/div/div/div[3]/div[2]/div/div[3]/div[5]/div/div[1]/div[x]'\n",
    "\n",
    "\n",
    "\n",
    "        items = browser.find_elements(By.CLASS_NAME, 'product-info-container.product-item')\n",
    "                      \n",
    "        for x in range(1, len(items)+1):          \n",
    "            \n",
    "            products = browser.find_elements(By.XPATH, path_product_element.replace('x', str(x)))\n",
    "            for product in products:\n",
    "\n",
    "                # get brand ID\n",
    "                brand_id = str(i)\n",
    "                print(brand_id)\n",
    "                brand_ids.append(brand_id)\n",
    "\n",
    "                # name product\n",
    "                name = product.find_elements(By.CLASS_NAME, 'product__name')\n",
    "                if len(name) > 0:\n",
    "                    for n in name:\n",
    "                        print(n.text)\n",
    "                        names.append(n.text)\n",
    "\n",
    "                else:\n",
    "                    print('No name')\n",
    "                    names.append('No name')\n",
    "\n",
    "                # link product\n",
    "                link = product.find_elements(By.CLASS_NAME, 'product__link.button__link')\n",
    "                if len(link) > 0:\n",
    "                    for l in link:\n",
    "                        print(l.get_attribute('href'))\n",
    "                        links.append(l.get_attribute('href'))\n",
    "                else:\n",
    "                    print('No link found')\n",
    "                    links.append('No link found')\n",
    "\n",
    "                # current prices\n",
    "                current_price = product.find_elements(By.CLASS_NAME, 'product__price--show')\n",
    "                if len(current_price) > 0:\n",
    "                    for cp in current_price:\n",
    "                        print(cp.text)\n",
    "                        current_prices.append(cp.text)\n",
    "                else:                    \n",
    "                    print(\"Giá Liên Hệ\")\n",
    "                    current_prices.append(\"Giá Liên Hệ\")\n",
    "\n",
    "                # old_price\n",
    "                old_price = product.find_elements(By.CLASS_NAME, 'product__price--through')\n",
    "                if len(old_price) > 0:\n",
    "                    for op in old_price:\n",
    "                        print(op.text)\n",
    "                        old_prices.append(op.text)\n",
    "                else:\n",
    "                    print(\"0\")\n",
    "                    old_prices.append(\"0\")\n",
    "\n",
    "                # percent discount\n",
    "                percent_discount = product.find_elements(By.CLASS_NAME, 'product__price--percent')\n",
    "                if len(percent_discount) > 0:\n",
    "                    for pd in percent_discount:\n",
    "                        print(pd.text)\n",
    "                        percent_discounts.append(pd.text)\n",
    "                else:\n",
    "                    print(\"giảm 0%\")\n",
    "                    percent_discounts.append(\"giảm 0%\")             \n",
    "\n",
    "        browser.back()\n",
    "        sleep(randint(3, 5))\n",
    "    \n",
    "    browser.close()\n",
    "    return brand_ids, names, links, current_prices, old_prices, percent_discounts"
   ]
  },
  {
   "cell_type": "markdown",
   "metadata": {},
   "source": [
    "## **Function build brand data frame**"
   ]
  },
  {
   "cell_type": "code",
   "execution_count": null,
   "metadata": {},
   "outputs": [],
   "source": [
    "def build_brand_data_frame(name_brands, link_brands):\n",
    "\n",
    "    brand = pd.DataFrame()\n",
    "\n",
    "    brand['brand_name'] = name_brands\n",
    "    brand['link'] = link_brands\n",
    "\n",
    "    index = []\n",
    "    for i in range(1, len(brand) + 1):\n",
    "        index.append(str(i))\n",
    "\n",
    "    brand['brand_id'] = index\n",
    "\n",
    "    return brand"
   ]
  },
  {
   "cell_type": "markdown",
   "metadata": {},
   "source": [
    "## **Function build Product data frame**"
   ]
  },
  {
   "cell_type": "code",
   "execution_count": null,
   "metadata": {},
   "outputs": [],
   "source": [
    "def build_product_data_frame(brand_ids, names, links, current_prices, old_prices, percent_discounts):\n",
    "    product = pd.DataFrame()\n",
    "\n",
    "    product['product_name'] = names\n",
    "    product['brand_id'] = brand_ids\n",
    "    product['product_link'] = links\n",
    "    product['current_price'] = current_prices\n",
    "    product['original_price'] = old_prices\n",
    "    product['percent_discount'] = percent_discounts\n",
    "\n",
    "    return product"
   ]
  },
  {
   "cell_type": "markdown",
   "metadata": {},
   "source": [
    "## **Laptop**"
   ]
  },
  {
   "cell_type": "code",
   "execution_count": null,
   "metadata": {},
   "outputs": [],
   "source": [
    "name_brands, link_brands = \\\n",
    "get_brand_info('https://cellphones.com.vn/tivi.html')"
   ]
  },
  {
   "cell_type": "code",
   "execution_count": null,
   "metadata": {},
   "outputs": [],
   "source": [
    "brand_ids, names, links, current_prices, old_prices, percent_discounts = \\\n",
    "get_product_info('https://cellphones.com.vn/tivi.html')"
   ]
  },
  {
   "cell_type": "code",
   "execution_count": null,
   "metadata": {},
   "outputs": [],
   "source": [
    "print(len(brand_ids))\n",
    "print(len(names))\n",
    "print(len(links))\n",
    "print(len(current_prices))\n",
    "print(len(old_prices))"
   ]
  },
  {
   "cell_type": "code",
   "execution_count": null,
   "metadata": {},
   "outputs": [],
   "source": [
    "print(len(name_brands))\n",
    "print(len(link_brands))"
   ]
  },
  {
   "cell_type": "code",
   "execution_count": null,
   "metadata": {},
   "outputs": [],
   "source": [
    "brand_data = build_brand_data_frame(name_brands, link_brands)\n",
    "product_data = build_product_data_frame(brand_ids, names, links, current_prices, old_prices, percent_discounts)"
   ]
  },
  {
   "cell_type": "code",
   "execution_count": null,
   "metadata": {},
   "outputs": [],
   "source": [
    "brand_data.head()"
   ]
  },
  {
   "cell_type": "code",
   "execution_count": null,
   "metadata": {},
   "outputs": [],
   "source": [
    "product_data.head()"
   ]
  },
  {
   "cell_type": "code",
   "execution_count": null,
   "metadata": {},
   "outputs": [],
   "source": [
    "current_dir = os.getcwd()\n",
    "brand_data.to_csv(current_dir + '/brands/brand_tv.csv', index=False)\n",
    "product_data.to_csv(current_dir + '/products/tv.csv', index=False)"
   ]
  }
 ],
 "metadata": {
  "kernelspec": {
   "display_name": "venv",
   "language": "python",
   "name": "python3"
  },
  "language_info": {
   "codemirror_mode": {
    "name": "ipython",
    "version": 3
   },
   "file_extension": ".py",
   "mimetype": "text/x-python",
   "name": "python",
   "nbconvert_exporter": "python",
   "pygments_lexer": "ipython3",
   "version": "3.11.7"
  }
 },
 "nbformat": 4,
 "nbformat_minor": 2
}
